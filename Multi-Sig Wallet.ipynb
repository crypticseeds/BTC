{
 "cells": [
  {
   "cell_type": "code",
   "execution_count": 1,
   "id": "c89ae9d1",
   "metadata": {},
   "outputs": [],
   "source": [
    "from bitcoin import *"
   ]
  },
  {
   "cell_type": "code",
   "execution_count": 2,
   "id": "6294d335",
   "metadata": {},
   "outputs": [
    {
     "name": "stdout",
     "output_type": "stream",
     "text": [
      "Private Key: 1fbacbfe9ee99c7d549e8a60995a4d22a097af6e4428a8ba84931fec9ee262ac\n",
      "\n"
     ]
    }
   ],
   "source": [
    "ceo_private_key = random_key()\n",
    "print(\"Private Key: %s\\n\" % ceo_private_key)"
   ]
  },
  {
   "cell_type": "code",
   "execution_count": 3,
   "id": "cb1dc246",
   "metadata": {},
   "outputs": [
    {
     "name": "stdout",
     "output_type": "stream",
     "text": [
      "Public Key: 04023b05dc49b7229a511a8ba1e0f2d54aa56a41dec84d538a59990d4733c90e0a16bd4916017187c0f622c4f99cd033fd0272fad8d3637ddf447d138237a1fb25\n",
      "\n"
     ]
    }
   ],
   "source": [
    "ceo_public_key = privtopub(ceo_private_key)\n",
    "print(\"Public Key: %s\\n\" % ceo_public_key)"
   ]
  },
  {
   "cell_type": "code",
   "execution_count": 4,
   "id": "e75f2976",
   "metadata": {},
   "outputs": [
    {
     "name": "stdout",
     "output_type": "stream",
     "text": [
      "Bitcoin Address: 1Wr55LomKkHSe39heNcBjs8QWSG8hGZxF\n",
      "\n"
     ]
    }
   ],
   "source": [
    "ceo_address = pubtoaddr(ceo_public_key)\n",
    "print(\"Bitcoin Address: %s\\n\" % ceo_address)"
   ]
  },
  {
   "cell_type": "code",
   "execution_count": 5,
   "id": "b7528f10",
   "metadata": {},
   "outputs": [],
   "source": [
    "alice_private_key = random_key()\n",
    "bob_private_key = random_key()\n",
    "ceo_private_key = random_key()"
   ]
  },
  {
   "cell_type": "code",
   "execution_count": 6,
   "id": "801fca7c",
   "metadata": {},
   "outputs": [],
   "source": [
    "alice_public_key = privtopub(alice_private_key)\n",
    "bob_public_key = privtopub(bob_private_key)\n",
    "ceo_public_key = privtopub(ceo_private_key)"
   ]
  },
  {
   "cell_type": "code",
   "execution_count": 10,
   "id": "4ee0ab80",
   "metadata": {},
   "outputs": [
    {
     "name": "stdout",
     "output_type": "stream",
     "text": [
      "My Multisignature Address: 372uuk6CRxSBkH5SyHw7PQWiFrYmaUJmo3\n",
      "\n"
     ]
    }
   ],
   "source": [
    "my_mulit_sig = mk_multisig_script(ceo_private_key, alice_private_key, bob_private_key, ceo_private_key, 3, 4)\n",
    "my_mulit_address = scriptaddr(my_mulit_sig)\n",
    "print(\"My Multisignature Address: %s\\n\" % my_mulit_address)"
   ]
  },
  {
   "cell_type": "code",
   "execution_count": 11,
   "id": "efef5a3f",
   "metadata": {},
   "outputs": [
    {
     "name": "stdout",
     "output_type": "stream",
     "text": [
      "[]\n"
     ]
    }
   ],
   "source": [
    "valid_address = '372uuk6CRxSBkH5SyHw7PQWiFrYmaUJmo3'\n",
    "print(history(valid_address))"
   ]
  },
  {
   "cell_type": "code",
   "execution_count": null,
   "id": "abdb700f",
   "metadata": {},
   "outputs": [],
   "source": []
  }
 ],
 "metadata": {
  "kernelspec": {
   "display_name": "Python 3 (ipykernel)",
   "language": "python",
   "name": "python3"
  },
  "language_info": {
   "codemirror_mode": {
    "name": "ipython",
    "version": 3
   },
   "file_extension": ".py",
   "mimetype": "text/x-python",
   "name": "python",
   "nbconvert_exporter": "python",
   "pygments_lexer": "ipython3",
   "version": "3.9.13"
  }
 },
 "nbformat": 4,
 "nbformat_minor": 5
}
